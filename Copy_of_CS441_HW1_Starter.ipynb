{
  "cells": [
    {
      "cell_type": "markdown",
      "metadata": {
        "id": "view-in-github",
        "colab_type": "text"
      },
      "source": [
        "<a href=\"https://colab.research.google.com/github/abhinildutt/KNN-Naive-Bayes-LR-for-MNIST/blob/main/Copy_of_CS441_HW1_Starter.ipynb\" target=\"_parent\"><img src=\"https://colab.research.google.com/assets/colab-badge.svg\" alt=\"Open In Colab\"/></a>"
      ]
    },
    {
      "cell_type": "markdown",
      "metadata": {
        "id": "Gd7scc-8QJvE"
      },
      "source": [
        "## CS441: Applied ML - HW 1"
      ]
    },
    {
      "cell_type": "markdown",
      "metadata": {
        "id": "QagOldZDQJvG"
      },
      "source": [
        "### Part I: MNIST Classification\n",
        "\n",
        "Include all the code for Part 1 in this section"
      ]
    },
    {
      "cell_type": "code",
      "execution_count": 2,
      "metadata": {
        "id": "vO_W4UH7NNBo"
      },
      "outputs": [],
      "source": [
        "# initialization code\n",
        "import numpy as np\n",
        "from keras.datasets import mnist\n",
        "%matplotlib inline\n",
        "from matplotlib import pyplot as plt\n",
        "from scipy import stats\n",
        "from sklearn.linear_model import LogisticRegression\n",
        "\n",
        "# loads MNIST data and reformat to 768-d vectors with values in range 0 to 1\n",
        "# splits into train/val/test sets and provides indices for subsets of train\n",
        "def load_mnist():\n",
        "  (x_train, y_train), (x_test, y_test) = mnist.load_data()\n",
        "  x_train = np.reshape(x_train, (len(x_train), 28*28))\n",
        "  x_test = np.reshape(x_test, (len(x_test), 28*28))\n",
        "  maxval = x_train.max()\n",
        "  x_train = x_train/maxval\n",
        "  x_test = x_test/maxval\n",
        "  x_val = x_train[:10000]\n",
        "  y_val = y_train[:10000]\n",
        "  x_train = x_train[10000:]\n",
        "  y_train = y_train[10000:]\n",
        "  train_indices = dict()\n",
        "  train_indices['xs'] = np.arange(50)\n",
        "  train_indices['s'] = np.arange(500)\n",
        "  train_indices['m'] = np.arange(5000)\n",
        "  train_indices['all'] = np.arange(50000)\n",
        "  return (x_train, y_train), (x_val, y_val), (x_test, y_test), train_indices\n",
        "\n",
        "# displays a set of mnist images\n",
        "def display_mnist(x, subplot_rows=1, subplot_cols=1):\n",
        "  if subplot_rows>1 or subplot_cols>1:\n",
        "    fig, ax = plt.subplots(subplot_rows, subplot_cols, figsize=(15,15))\n",
        "    for i in np.arange(len(x)):\n",
        "      ax[i].imshow(np.reshape(x[i], (28,28)), cmap='gray')\n",
        "      ax[i].axis('off')\n",
        "  else:\n",
        "      plt.imshow(np.reshape(x, (28,28)), cmap='gray')\n",
        "      plt.axis('off')\n",
        "  plt.show()\n",
        "\n",
        "# counts the number of examples per class\n",
        "def class_count_mnist(y):\n",
        "  count = np.zeros((10,),dtype='uint32')\n",
        "  for i in np.arange(10):\n",
        "    count[i] = sum(y==i)\n",
        "  return count"
      ]
    },
    {
      "cell_type": "code",
      "execution_count": 3,
      "metadata": {
        "colab": {
          "base_uri": "https://localhost:8080/",
          "height": 187
        },
        "id": "-PwqmwHdhpox",
        "outputId": "8dd4475f-5dcf-4614-de0d-a4e6b62275c8"
      },
      "outputs": [
        {
          "output_type": "stream",
          "name": "stdout",
          "text": [
            "Downloading data from https://storage.googleapis.com/tensorflow/tf-keras-datasets/mnist.npz\n",
            "11490434/11490434 [==============================] - 1s 0us/step\n"
          ]
        },
        {
          "output_type": "display_data",
          "data": {
            "text/plain": [
              "<Figure size 1080x1080 with 10 Axes>"
            ],
            "image/png": "[encoded data removed]"
          },
          "metadata": {
            "needs_background": "light"
          }
        },
        {
          "output_type": "stream",
          "name": "stdout",
          "text": [
            "Total size: train=50000, val=10000, test =10000\n",
            "Train subset size: xs=50, s=500, m=5000, all=50000\n",
            "Class count for s: [56 57 51 49 46 46 50 51 40 54]\n"
          ]
        }
      ],
      "source": [
        "# example of using MNIST load, display, indices, and count functions\n",
        "(x_train, y_train), (x_val, y_val), (x_test, y_test), train_indices = load_mnist()\n",
        "display_mnist(x_train[:10],1,10)\n",
        "print('Total size: train={}, val={}, test ={}'.format(len(x_train), len(x_val), len(x_test)))\n",
        "print('Train subset size: xs={}, s={}, m={}, all={}'.format(len(train_indices['xs']),len(train_indices['s']),len(train_indices['m']),len(train_indices['all'])))\n",
        "print('Class count for s: {}'.format(class_count_mnist(y_train[train_indices['s']])))"
      ]
    },
    {
      "cell_type": "code",
      "execution_count": null,
      "metadata": {
        "colab": {
          "base_uri": "https://localhost:8080/"
        },
        "id": "JxHYxmJIX0yD",
        "outputId": "9129fe64-8e60-47b2-caae-58649a050b94"
      },
      "outputs": [
        {
          "name": "stdout",
          "output_type": "stream",
          "text": [
            "Looking in indexes: https://pypi.org/simple, https://us-python.pkg.dev/colab-wheels/public/simple/\n",
            "Collecting ipython-autotime\n",
            "  Downloading ipython_autotime-0.3.1-py2.py3-none-any.whl (6.8 kB)\n",
            "Requirement already satisfied: ipython in /usr/local/lib/python3.8/dist-packages (from ipython-autotime) (7.9.0)\n",
            "Requirement already satisfied: setuptools>=18.5 in /usr/local/lib/python3.8/dist-packages (from ipython->ipython-autotime) (57.4.0)\n",
            "Requirement already satisfied: traitlets>=4.2 in /usr/local/lib/python3.8/dist-packages (from ipython->ipython-autotime) (5.7.1)\n",
            "Requirement already satisfied: pexpect in /usr/local/lib/python3.8/dist-packages (from ipython->ipython-autotime) (4.8.0)\n",
            "Requirement already satisfied: pickleshare in /usr/local/lib/python3.8/dist-packages (from ipython->ipython-autotime) (0.7.5)\n",
            "Requirement already satisfied: decorator in /usr/local/lib/python3.8/dist-packages (from ipython->ipython-autotime) (4.4.2)\n",
            "Requirement already satisfied: backcall in /usr/local/lib/python3.8/dist-packages (from ipython->ipython-autotime) (0.2.0)\n",
            "Requirement already satisfied: pygments in /usr/local/lib/python3.8/dist-packages (from ipython->ipython-autotime) (2.6.1)\n",
            "Collecting jedi>=0.10\n",
            "  Downloading jedi-0.18.2-py2.py3-none-any.whl (1.6 MB)\n",
            "\u001b[2K     \u001b[90m━━━━━━━━━━━━━━━━━━━━━━━━━━━━━━━━━━━━━━━━\u001b[0m \u001b[32m1.6/1.6 MB\u001b[0m \u001b[31m12.7 MB/s\u001b[0m eta \u001b[36m0:00:00\u001b[0m\n",
            "\u001b[?25hRequirement already satisfied: prompt-toolkit<2.1.0,>=2.0.0 in /usr/local/lib/python3.8/dist-packages (from ipython->ipython-autotime) (2.0.10)\n",
            "Requirement already satisfied: parso<0.9.0,>=0.8.0 in /usr/local/lib/python3.8/dist-packages (from jedi>=0.10->ipython->ipython-autotime) (0.8.3)\n",
            "Requirement already satisfied: six>=1.9.0 in /usr/local/lib/python3.8/dist-packages (from prompt-toolkit<2.1.0,>=2.0.0->ipython->ipython-autotime) (1.15.0)\n",
            "Requirement already satisfied: wcwidth in /usr/local/lib/python3.8/dist-packages (from prompt-toolkit<2.1.0,>=2.0.0->ipython->ipython-autotime) (0.2.6)\n",
            "Requirement already satisfied: ptyprocess>=0.5 in /usr/local/lib/python3.8/dist-packages (from pexpect->ipython->ipython-autotime) (0.7.0)\n",
            "Installing collected packages: jedi, ipython-autotime\n",
            "Successfully installed ipython-autotime-0.3.1 jedi-0.18.2\n",
            "time: 8.13 ms (started: 2023-02-12 01:22:38 +00:00)\n"
          ]
        }
      ],
      "source": [
        "!pip install ipython-autotime\n",
        "\n",
        "%load_ext autotime"
      ]
    },
    {
      "cell_type": "code",
      "execution_count": null,
      "metadata": {
        "id": "szEj_VKfORbU"
      },
      "outputs": [],
      "source": [
        "# This is a suggested function definition for KNN, but feel free to change it\n",
        "def classify_KNN(X_trn, y_trn, X_tst, K=1):\n",
        "  '''\n",
        "  Classify each data point in X_tst using a K-nearest neighbor classifier based on (X_trn, y_trn), with L2 distance.   \n",
        "  Input: X_trn[i] is the ith training data. y_trn[i] is the ith training label. \n",
        "         X_tst[i] is the ith example to classify.  K is the number of closest neighbors to use.\n",
        "  Output: return y_pred, where y_pred[i] is the predicted ith test label \n",
        "  '''\n",
        "  pre = []\n",
        "  lab = []\n",
        "  # needs code here\n",
        "  for i in range(len(X_trn)):\n",
        "    pre.append(np.matmul(np.transpose(X_trn[i]), X_trn[i]))\n",
        "  for j in range(len(X_tst)):\n",
        "    precom = np.zeros(len(X_trn))\n",
        "    near = []\n",
        "    for i in range(len(X_trn)):\n",
        "      precom[i] = (pre[i] - 2 * np.matmul(X_trn[i], X_tst[j]))\n",
        "      near.append((i, precom[i]))\n",
        "    di = {}\n",
        "    near.sort(key=lambda tup: tup[1])\n",
        "    ma = 0\n",
        "    label = 0\n",
        "    for (ind, val) in near[:K] :\n",
        "      if(ind in di.keys()):\n",
        "        di[ind] += 1\n",
        "      else :\n",
        "        di[ind] = 1\n",
        "      if(di[ind] > ma) :\n",
        "        label = ind\n",
        "        ma = di[ind]\n",
        "    lab.append(y_trn[label])\n",
        "  return lab\n",
        "\n",
        "def validate_KNN(X_val, Y_val, X_trn, Y_trn):\n",
        "  # needs code here\n",
        "  error_rate = []\n",
        "  for i in range(1, 31) :\n",
        "    y_pred = classify_KNN(X_trn, Y_trn, X_val, i)\n",
        "    error_rate.append(np.mean(y_pred != Y_val))\n",
        "  return error_rate\n",
        "\n",
        "def plot_error(error_rate) :\n",
        "    plt.figure(figsize = (12, 6))\n",
        "    plt.plot(range(1, 31), error_rate , marker = \"o\", linestyle = \"dashed\", color = \"blue\")\n",
        "    plt.title(\"Error rate vs k value\")\n",
        "    plt.xticks(range(1, 31))\n",
        "    plt.show()"
      ]
    },
    {
      "cell_type": "code",
      "execution_count": null,
      "metadata": {
        "colab": {
          "base_uri": "https://localhost:8080/"
        },
        "id": "u7rNN83bwevc",
        "outputId": "ef3e9c7e-4eb8-4efa-ef12-f5f46e10c723"
      },
      "outputs": [
        {
          "name": "stdout",
          "output_type": "stream",
          "text": [
            "time: 38.8 ms (started: 2023-02-11 18:42:39 +00:00)\n"
          ]
        }
      ],
      "source": [
        "y_val_pred = classify_KNN(x_train[train_indices['s']], y_train[train_indices['s']], x_test[:1], 2)"
      ]
    },
    {
      "cell_type": "code",
      "execution_count": null,
      "metadata": {
        "colab": {
          "base_uri": "https://localhost:8080/"
        },
        "id": "l7W2o0OK-U8C",
        "outputId": "15167407-e695-44f9-badc-04fc82dc4598"
      },
      "outputs": [
        {
          "name": "stdout",
          "output_type": "stream",
          "text": [
            "0.1611\n",
            "time: 18.5 s (started: 2023-02-11 09:54:45 +00:00)\n"
          ]
        }
      ],
      "source": [
        "y_val_pred = classify_KNN(x_train[train_indices['s']], y_train[train_indices['s']], x_val, 2)\n",
        "print(np.mean(y_val_pred != y_val))"
      ]
    },
    {
      "cell_type": "code",
      "execution_count": null,
      "metadata": {
        "id": "ZaEy5IYOOAHZ"
      },
      "outputs": [],
      "source": [
        "error_rate = validate_KNN(x_val, y_val, x_train[train_indices['s']], y_train[train_indices['s']])"
      ]
    },
    {
      "cell_type": "code",
      "execution_count": null,
      "metadata": {
        "id": "OAqQpAenLypw"
      },
      "outputs": [],
      "source": [
        "y_val_pred = classify_KNN(x_train[train_indices['s']], y_train[train_indices['s']], x_val, 2)"
      ]
    },
    {
      "cell_type": "code",
      "execution_count": null,
      "metadata": {
        "colab": {
          "base_uri": "https://localhost:8080/",
          "height": 296
        },
        "id": "yttjT8ZRNWBV",
        "outputId": "fc69a877-3c07-44f5-8e04-2fba2a24f44e"
      },
      "outputs": [
        {
          "data": {
            "text/plain": [
              "<sklearn.metrics._plot.confusion_matrix.ConfusionMatrixDisplay at 0x7fb110181310>"
            ]
          },
          "execution_count": 9,
          "metadata": {},
          "output_type": "execute_result"
        },
        {
          "data": {
            "image/png": "[encoded data removed]",
            "text/plain": [
              "<Figure size 432x288 with 2 Axes>"
            ]
          },
          "metadata": {},
          "output_type": "display_data"
        }
      ],
      "source": [
        "from sklearn.metrics import confusion_matrix, ConfusionMatrixDisplay\n",
        "cm = confusion_matrix(y_val, y_val_pred)\n",
        "disp = ConfusionMatrixDisplay(confusion_matrix=cm, display_labels=np.arange(10))\n",
        "disp.plot()"
      ]
    },
    {
      "cell_type": "code",
      "execution_count": null,
      "metadata": {
        "colab": {
          "base_uri": "https://localhost:8080/"
        },
        "id": "lUTUAE__PIU7",
        "outputId": "385389bd-82dc-4c05-96b1-e14a68d96ca8"
      },
      "outputs": [
        {
          "data": {
            "text/plain": [
              "[2.997002997002997,\n",
              " 0.354924578527063,\n",
              " 7.769929364278506,\n",
              " 5.232558139534884,\n",
              " 16.632653061224488,\n",
              " 6.60486674391657,\n",
              " 2.366863905325444,\n",
              " 9.25233644859813,\n",
              " 6.779661016949152,\n",
              " 10.224948875255624]"
            ]
          },
          "execution_count": 12,
          "metadata": {},
          "output_type": "execute_result"
        }
      ],
      "source": [
        "pd = [6, 7, 1, 5, 9, 3, 1, 9, 3, 7]\n",
        "ans = []\n",
        "for i in np.arange(10):\n",
        "  sum = cm[i].sum()\n",
        "  ans.append(cm[i][pd[i]]/sum * 100)\n",
        "ans"
      ]
    },
    {
      "cell_type": "code",
      "execution_count": null,
      "metadata": {
        "colab": {
          "base_uri": "https://localhost:8080/"
        },
        "id": "ciEdT45dYuvb",
        "outputId": "e7b6f337-2b4f-4c6f-e719-4310f305faaf"
      },
      "outputs": [
        {
          "name": "stdout",
          "output_type": "stream",
          "text": [
            "50 samples, val error :  0.3372\n",
            "500 samples, val error :  0.1611\n",
            "5000 samples, val error :  0.0682\n",
            "50000 samples, val error :  0.0304\n",
            "time: 40min 3s (started: 2023-02-11 10:33:11 +00:00)\n"
          ]
        }
      ],
      "source": [
        "y_pred_KNN = classify_KNN(x_train[train_indices['xs']], y_train[train_indices['xs']], x_val, K = 2)\n",
        "print(\"50 samples, val error : \", np.mean(y_pred_KNN != y_val))\n",
        "\n",
        "y_pred_KNN = classify_KNN(x_train[train_indices['s']], y_train[train_indices['s']], x_val, K = 2)\n",
        "print(\"500 samples, val error : \", np.mean(y_pred_KNN != y_val))\n",
        "\n",
        "y_pred_KNN = classify_KNN(x_train[train_indices['m']], y_train[train_indices['m']], x_val, K = 2)\n",
        "print(\"5000 samples, val error : \", np.mean(y_pred_KNN != y_val))\n",
        "\n",
        "y_pred_KNN = classify_KNN(x_train[train_indices['all']], y_train[train_indices['all']], x_val, K = 2)\n",
        "print(\"50000 samples, val error : \", np.mean(y_pred_KNN != y_val))"
      ]
    },
    {
      "cell_type": "code",
      "execution_count": 8,
      "metadata": {
        "id": "lZCd60v4UXE5"
      },
      "outputs": [],
      "source": [
        "def train_NB_mnist(X, y, alpha=1.5):\n",
        "  '''\n",
        "  Train P(x_f=v|y=c) for each feature f, value v, and class c.  Can assume 10 classes and that the features are binary variables \n",
        "  Input: X[i] is the ith training data. y[i] is the ith training label. alpha is the count prior\n",
        "  Output: return pxy of shape (Nf, 10, 2), where Nf is the number of features; pxy[f,c,v] is P(x_f=v|y=c) \n",
        "  '''\n",
        "  # needs code here\n",
        "  theta_ki = np.zeros((len(X[0]), 10, 2))\n",
        "  pxy = np.zeros((len(X[0]), 10, 2))\n",
        "  for k in range(10):\n",
        "    for i in range(len(X[0])):\n",
        "      theta_ki[i,k,1] = (np.sum((X[:,i] > 0.5) & (y==k))+alpha) / (np.sum(y==k) + alpha * (np.sum(X[:,i] > 0.5)))\n",
        "      pxy[i,k,1] = theta_ki[i,k,1]\n",
        "      pxy[i,k,0] = 1 - theta_ki[i,k,1]\n",
        "  return pxy\n",
        "\n",
        "# This is a suggested function definition for evauating Naive Bayes, but feel free to change it\n",
        "def eval_NB_mnist(pxy, y, X):\n",
        "  '''\n",
        "  Evaluate naive bayes for mnist\n",
        "  Input: pxy is the trained model; X is the test data\n",
        "  Output: return y_pred, where y_pred[i] is the predicted ith test label  \n",
        "  '''\n",
        "  y_pred = []\n",
        "  y_prob = []\n",
        "\n",
        "  for k in range(10):\n",
        "    y_prob.append(np.sum(y == k)/ len(y))\n",
        "\n",
        "  for x in X:\n",
        "    max_label = 0\n",
        "    ma = 0\n",
        "    for k in range(10):\n",
        "      prob = 1\n",
        "      ans = 0\n",
        "      for i in range(len(x)):\n",
        "        if(x[i] > 0.5):\n",
        "          prob *= pxy[i, k, 1]\n",
        "          ans = prob\n",
        "        else :\n",
        "          prob *= pxy[i, k, 0]\n",
        "          ans = prob\n",
        "      if(ans > ma):\n",
        "        ma = ans\n",
        "        max_label = k\n",
        "    y_pred.append(max_label)\n",
        "  return y_pred"
      ]
    },
    {
      "cell_type": "code",
      "execution_count": null,
      "metadata": {
        "colab": {
          "base_uri": "https://localhost:8080/"
        },
        "id": "johxllFJcpke",
        "outputId": "cd3e651b-6e5f-406e-fef5-bbfc747ae456"
      },
      "outputs": [
        {
          "data": {
            "text/plain": [
              "[5, 0, 4, 1, 9, 2, 1, 3, 1, 4]"
            ]
          },
          "execution_count": 34,
          "metadata": {},
          "output_type": "execute_result"
        },
        {
          "name": "stdout",
          "output_type": "stream",
          "text": [
            "time: 355 ms (started: 2023-02-11 23:58:45 +00:00)\n"
          ]
        }
      ],
      "source": [
        "pxy = train_NB_mnist(x_train[train_indices['s']], y_train[train_indices['s']])\n",
        "y_pred = eval_NB_mnist(pxy, y_train, x_val[:10])\n",
        "y_pred"
      ]
    },
    {
      "cell_type": "code",
      "execution_count": 9,
      "metadata": {
        "id": "_5Lzue3IOWxL"
      },
      "outputs": [],
      "source": [
        "pxy = train_NB_mnist(x_train[train_indices['s']], y_train[train_indices['s']], 1.5)"
      ]
    },
    {
      "cell_type": "code",
      "execution_count": 12,
      "metadata": {
        "colab": {
          "base_uri": "https://localhost:8080/"
        },
        "id": "FMZ_n7rsOwXR",
        "outputId": "4ae74080-582f-44e2-bc86-2c86483d6ea5"
      },
      "outputs": [
        {
          "output_type": "stream",
          "name": "stdout",
          "text": [
            "Error rate :  0.282\n"
          ]
        }
      ],
      "source": [
        "pxy = train_NB_mnist(x_train[train_indices['s']], y_train[train_indices['s']], 1.0)\n",
        "y_pred = eval_NB_mnist(pxy, y_train, x_test)\n",
        "print(\"Error rate : \", np.mean(y_pred != y_test))"
      ]
    },
    {
      "cell_type": "code",
      "execution_count": null,
      "metadata": {
        "colab": {
          "base_uri": "https://localhost:8080/"
        },
        "id": "lssY2dD8Twa7",
        "outputId": "25300bef-9366-4f1b-ee93-5750238dd681"
      },
      "outputs": [
        {
          "name": "stdout",
          "output_type": "stream",
          "text": [
            "50 samples, val error : 0.6073\n",
            "500 samples, val error : 0.2851\n",
            "5000 samples, val error : 0.2496\n",
            "50000 samples, val error : 0.2421\n",
            "time: 2min 56s (started: 2023-02-12 01:52:49 +00:00)\n"
          ]
        }
      ],
      "source": [
        "pxy = train_NB_mnist(x_train[train_indices['xs']], y_train[train_indices['xs']], 1.0)\n",
        "y_pred = eval_NB_mnist(pxy, y_train, x_val)\n",
        "print(\"50 samples, val error :\" , np.mean(y_pred != y_val))\n",
        "\n",
        "pxy = train_NB_mnist(x_train[train_indices['s']], y_train[train_indices['s']], 1.0)\n",
        "y_pred = eval_NB_mnist(pxy, y_train, x_val)\n",
        "print(\"500 samples, val error :\" , np.mean(y_pred != y_val))\n",
        "\n",
        "pxy = train_NB_mnist(x_train[train_indices['m']], y_train[train_indices['m']], 1.0)\n",
        "y_pred = eval_NB_mnist(pxy, y_train, x_val)\n",
        "print(\"5000 samples, val error :\" , np.mean(y_pred != y_val))\n",
        "\n",
        "pxy = train_NB_mnist(x_train[train_indices['all']], y_train[train_indices['all']], 1.0)\n",
        "y_pred = eval_NB_mnist(pxy, y_train, x_val)\n",
        "print(\"50000 samples, val error :\" , np.mean(y_pred != y_val))"
      ]
    },
    {
      "cell_type": "code",
      "execution_count": null,
      "metadata": {
        "colab": {
          "base_uri": "https://localhost:8080/"
        },
        "id": "WywJspO17QzE",
        "outputId": "edbb794f-bad6-4f47-e77d-349e3d3925d5"
      },
      "outputs": [
        {
          "name": "stdout",
          "output_type": "stream",
          "text": [
            "time: 17.6 ms (started: 2023-02-12 01:26:00 +00:00)\n"
          ]
        }
      ],
      "source": [
        "y_pred = eval_NB_mnist(pxy, y_train, x_val[:1])"
      ]
    },
    {
      "cell_type": "code",
      "execution_count": 4,
      "metadata": {
        "colab": {
          "base_uri": "https://localhost:8080/"
        },
        "id": "tbzXogNvhAx6",
        "outputId": "091d0d40-b628-4fef-f628-cfabca603b5b"
      },
      "outputs": [
        {
          "output_type": "stream",
          "name": "stdout",
          "text": [
            "Error:  0.154\n",
            "best_c :  1.0\n"
          ]
        }
      ],
      "source": [
        "# don't forget logistic regression!\n",
        "best_c = 1.0\n",
        "best_score = 0\n",
        "curr_c = 1.0\n",
        "\n",
        "while(curr_c <= 10.0):\n",
        "    lr = LogisticRegression(max_iter=500, C = curr_c)\n",
        "    lr.fit(x_train[train_indices['s']], y_train[train_indices['s']])\n",
        "    scr = lr.score(x_train[train_indices['s']], y_train[train_indices['s']])\n",
        "    if(scr > best_score):\n",
        "        best_score = scr\n",
        "        best_c = curr_c\n",
        "    curr_c += 0.1\n",
        "score = lr.score(x_val, y_val)\n",
        "\n",
        "lr = LogisticRegression(max_iter = 500, C = best_c)\n",
        "lr.fit(x_train[train_indices['s']], y_train[train_indices['s']])\n",
        "print(\"Error: \", np.mean(y_val != lr.predict(x_val)))\n",
        "print(\"best_c : \", best_c)\n",
        "\n"
      ]
    },
    {
      "cell_type": "code",
      "execution_count": 5,
      "metadata": {
        "colab": {
          "base_uri": "https://localhost:8080/"
        },
        "id": "KJThQD-Qoym_",
        "outputId": "c0cd3f7b-f1ef-435f-8f5f-d1e5ac75a9e7"
      },
      "outputs": [
        {
          "output_type": "stream",
          "name": "stdout",
          "text": [
            "Error:  0.1494\n"
          ]
        }
      ],
      "source": [
        "y_pred_logi = lr.predict(x_test)\n",
        "print(\"Error: \", np.mean(y_test != y_pred_logi))"
      ]
    },
    {
      "cell_type": "code",
      "execution_count": 6,
      "metadata": {
        "colab": {
          "base_uri": "https://localhost:8080/"
        },
        "id": "YhIVM7B2T9eK",
        "outputId": "3926eeb6-903b-4066-b23f-3149d3c66f20"
      },
      "outputs": [
        {
          "output_type": "stream",
          "name": "stdout",
          "text": [
            "50 samples, val error : 0.3503\n",
            "500 samples, val error : 0.154\n",
            "5000 samples, val error : 0.1095\n",
            "50000 samples, val error : 0.0752\n"
          ]
        },
        {
          "output_type": "stream",
          "name": "stderr",
          "text": [
            "/usr/local/lib/python3.8/dist-packages/sklearn/linear_model/_logistic.py:814: ConvergenceWarning: lbfgs failed to converge (status=1):\n",
            "STOP: TOTAL NO. of ITERATIONS REACHED LIMIT.\n",
            "\n",
            "Increase the number of iterations (max_iter) or scale the data as shown in:\n",
            "    https://scikit-learn.org/stable/modules/preprocessing.html\n",
            "Please also refer to the documentation for alternative solver options:\n",
            "    https://scikit-learn.org/stable/modules/linear_model.html#logistic-regression\n",
            "  n_iter_i = _check_optimize_result(\n"
          ]
        }
      ],
      "source": [
        "lr = LogisticRegression(max_iter = 500, C = best_c)\n",
        "lr.fit(x_train[train_indices['xs']], y_train[train_indices['xs']])\n",
        "print(\"50 samples, val error :\" , np.mean(lr.predict(x_val) != y_val))\n",
        "\n",
        "lr.fit(x_train[train_indices['s']], y_train[train_indices['s']])\n",
        "print(\"500 samples, val error :\" , np.mean(lr.predict(x_val) != y_val))\n",
        "\n",
        "lr.fit(x_train[train_indices['m']], y_train[train_indices['m']])\n",
        "print(\"5000 samples, val error :\" , np.mean(lr.predict(x_val) != y_val))\n",
        "\n",
        "lr.fit(x_train[train_indices['all']], y_train[train_indices['all']])\n",
        "print(\"50000 samples, val error :\" , np.mean(lr.predict(x_val) != y_val))"
      ]
    },
    {
      "cell_type": "code",
      "execution_count": null,
      "metadata": {
        "colab": {
          "base_uri": "https://localhost:8080/",
          "height": 119
        },
        "id": "8HD3ObGr7TEO",
        "outputId": "d4143b07-09ce-4004-c716-b5f03e0a39c2"
      },
      "outputs": [
        {
          "data": {
            "image/png": "[encoded data removed]",
            "text/plain": [
              "<Figure size 1080x1080 with 10 Axes>"
            ]
          },
          "metadata": {},
          "output_type": "display_data"
        },
        {
          "name": "stdout",
          "output_type": "stream",
          "text": [
            "(784,)\n"
          ]
        }
      ],
      "source": [
        "display_mnist(x_val[:10],1,10)\n",
        "print(np.shape(x_train))"
      ]
    },
    {
      "cell_type": "code",
      "execution_count": null,
      "metadata": {
        "colab": {
          "base_uri": "https://localhost:8080/"
        },
        "id": "uLvi7Yj-ebAa",
        "outputId": "5c57ee2d-4fcb-44ba-de42-86a7e0a06933"
      },
      "outputs": [
        {
          "name": "stdout",
          "output_type": "stream",
          "text": [
            "4\n"
          ]
        }
      ],
      "source": [
        "# experiments code\n",
        "y = label_for_x(x_test[4], x_train, y_train, 1)\n",
        "print(y)\n"
      ]
    },
    {
      "cell_type": "markdown",
      "metadata": {
        "id": "F49MYTryhPJB"
      },
      "source": [
        "## Part 2: Temperature Regression\n",
        "\n",
        "Include all your code for part 2 in this section.  You can copy-paste code from part 1 if it is re-usable."
      ]
    },
    {
      "cell_type": "code",
      "execution_count": null,
      "metadata": {
        "id": "4PG1tNzr1tSO"
      },
      "outputs": [],
      "source": [
        "import numpy as np\n",
        "from google.colab import drive\n",
        "%matplotlib inline\n",
        "from matplotlib import pyplot as plt\n",
        "from sklearn.linear_model import Ridge\n",
        "from sklearn.linear_model import Lasso\n",
        "\n",
        "# load data (modify to match your data directory or comment)\n",
        "def load_temp_data():\n",
        "  drive.mount('/content/drive')\n",
        "  datadir = \"/content/drive/MyDrive/\" \n",
        "  T = np.load(datadir + 'temperature_data.npz')\n",
        "  x_train, y_train, x_val, y_val, x_test, y_test, dates_train, dates_val, dates_test, feature_to_city, feature_to_day = \\\n",
        "  T['x_train'], T['y_train'], T['x_val'], T['y_val'], T['x_test'], T['y_test'], T['dates_train'], T['dates_val'], T['dates_test'], T['feature_to_city'], T['feature_to_day']\n",
        "  return (x_train, y_train, x_val, y_val, x_test, y_test, dates_train, dates_val, dates_test, feature_to_city, feature_to_day)\n",
        "\n",
        "# plot one data point for listed cities and target temperature\n",
        "def plot_temps(x, y, cities, feature_to_city, feature_to_day, target_date):\n",
        "  nc = len(cities)\n",
        "  ndays = 5\n",
        "  xplot = np.array([-5,-4,-3,-2,-1])\n",
        "  yplot = np.zeros((nc,ndays))\n",
        "  for f in np.arange(len(x)):\n",
        "    for c in np.arange(nc):\n",
        "      if cities[c]==feature_to_city[f]:\n",
        "        yplot[feature_to_day[f]+ndays,c] = x[f]\n",
        "  plt.plot(xplot,yplot)\n",
        "  plt.legend(cities)\n",
        "  plt.plot(0, y, 'b*', markersize=10)\n",
        "  plt.title('Predict Temp for Cleveland on ' + target_date)\n",
        "  plt.xlabel('Day')\n",
        "  plt.ylabel('Avg Temp (C)')\n",
        "  plt.show()"
      ]
    },
    {
      "cell_type": "code",
      "execution_count": null,
      "metadata": {
        "colab": {
          "base_uri": "https://localhost:8080/",
          "height": 624
        },
        "id": "zZ6shFfVHlpZ",
        "outputId": "fe19e4b0-cf97-4ed5-b0f8-4391bfbf007c"
      },
      "outputs": [
        {
          "output_type": "stream",
          "name": "stdout",
          "text": [
            "Mounted at /content/drive\n",
            "Feature 361: city = Cleveland, day= -1\n",
            "Baseline - predict same as previous day: RMSE=3.460601246750482, MAE=1.9500000000000006\n"
          ]
        },
        {
          "output_type": "display_data",
          "data": {
            "text/plain": [
              "<Figure size 432x288 with 1 Axes>"
            ],
            "image/png": "[encoded data removed]"
          },
          "metadata": {
            "needs_background": "light"
          }
        },
        {
          "output_type": "display_data",
          "data": {
            "text/plain": [
              "<Figure size 432x288 with 1 Axes>"
            ],
            "image/png": "[encoded data removed]"
          },
          "metadata": {
            "needs_background": "light"
          }
        }
      ],
      "source": [
        "# load data (may need to modify file location in preceding cell)\n",
        "(x_train, y_train, x_val, y_val, x_test, y_test, dates_train, dates_val, dates_test, feature_to_city, feature_to_day) = load_temp_data()\n",
        "\n",
        "# example of displaying information related to a feature index\n",
        "f = 361\n",
        "print('Feature {}: city = {}, day= {}'.format(f,feature_to_city[f], feature_to_day[f]))\n",
        "\n",
        "# example of computing RMSE and median absolute error (for baseline of predicting based on previous day's temperature in Cleveland)\n",
        "baseline_rmse = np.sqrt(np.mean((y_val[1:]-y_val[:-1])**2)) # root mean squared error\n",
        "baseline_mae = np.median(np.abs(y_val[1:]-y_val[:-1])) # median absolute error\n",
        "print('Baseline - predict same as previous day: RMSE={}, MAE={}'.format(baseline_rmse, baseline_mae))\n",
        "\n",
        "# plots temperatures for preceding days for given cities, and target (Cleveland) temp\n",
        "plot_temps(x_val[0], y_val[0], ['Cleveland', 'New York', 'Chicago', 'Denver', 'St. Louis'], feature_to_city, feature_to_day, dates_val[0])\n",
        "plot_temps(x_val[100], y_val[100], ['Cleveland', 'New York', 'Chicago', 'Denver', 'St. Louis'], feature_to_city, feature_to_day, dates_val[1])"
      ]
    },
    {
      "cell_type": "code",
      "execution_count": null,
      "metadata": {
        "id": "ERcv0wIcQnWB"
      },
      "outputs": [],
      "source": [
        "def classify_KNN(X_trn, y_trn, X_tst, K=3):\n",
        "  '''\n",
        "  Classify each data point in X_tst using a K-nearest neighbor classifier based on (X_trn, y_trn), with L2 distance.   \n",
        "  Input: X_trn[i] is the ith training data. y_trn[i] is the ith training label. K is the number of closest neighbors to use.\n",
        "  Output: return y_pred, where y_pred[i] is the predicted ith test label \n",
        "  '''\n",
        "  lab = []\n",
        "  for x in X_tst:\n",
        "    dist = []\n",
        "    for j in range(len(X_trn)):\n",
        "      dis = np.sqrt(np.sum(np.square(x - X_trn[j])))\n",
        "      dist.append([j, dis])\n",
        "    dist.sort(key=lambda tup : tup[1])\n",
        "    sum = 0\n",
        "    for i in range(K):\n",
        "      sum += y_trn[dist[i][0]]\n",
        "    sum = sum / K\n",
        "    lab.append(sum)\n",
        "  return lab\n",
        "\n",
        "def eval_KNN(X_trn, y_trn, X_tst, y_tst, K=3):\n",
        "  y_pred = classify_KNN(X_trn, y_trn, X_tst, K=3)\n",
        "  MSE = np.square(np.subtract(y_tst,y_pred)).mean() \n",
        "  print(\"RMSE : \", np.sqrt(MSE))\n",
        "  mad = np.median(abs(y_tst - y_pred))\n",
        "  print(\"Median abs error : \", mad)"
      ]
    },
    {
      "cell_type": "code",
      "execution_count": null,
      "metadata": {
        "colab": {
          "base_uri": "https://localhost:8080/"
        },
        "id": "jYfueVh9sGal",
        "outputId": "e5c763dc-53ab-456d-a667-df1259c3fc6f"
      },
      "outputs": [
        {
          "name": "stdout",
          "output_type": "stream",
          "text": [
            "RMSE :  3.4030752186343767\n",
            "Median abs error :  2.2566666666666677\n"
          ]
        }
      ],
      "source": [
        "eval_KNN(x_train, y_train, x_test, y_test, 3)"
      ]
    },
    {
      "cell_type": "code",
      "execution_count": null,
      "metadata": {
        "colab": {
          "base_uri": "https://localhost:8080/"
        },
        "id": "Vm16VC6XGSor",
        "outputId": "b0a0a921-e935-4ef8-ea2b-d4d344a9bdb6"
      },
      "outputs": [
        {
          "data": {
            "text/plain": [
              "(1825,)"
            ]
          },
          "execution_count": 5,
          "metadata": {},
          "output_type": "execute_result"
        }
      ],
      "source": [
        "np.shape(x_train[:,1])"
      ]
    },
    {
      "cell_type": "code",
      "execution_count": null,
      "metadata": {
        "id": "u9i_hB-UQWDp"
      },
      "outputs": [],
      "source": [
        "# Suggested function definition for NB for temperature regression, but feel free to change \n",
        "def train_NB_temp(X, y, f, std_prior=0):\n",
        "  '''\n",
        "  Train NB, assuming that X[f]-y is a Gaussian\n",
        "  Input: X[i] is the ith training data. y[i] is the ith training label. std_prior is a value to add to std\n",
        "  Output: return pxy['mu'] and pxy['std'] each with number of values equal to number of features\n",
        "  '''\n",
        "  # needs code\n",
        "  std = np.zeros(f)\n",
        "  mu = np.zeros(f)\n",
        "  \n",
        "  for i in range(f):\n",
        "    std[i] = np.std(y-X[:,i], axis=0)+np.sqrt(std_prior/len(X))\n",
        "    mu[i] = np.mean(y-X[:,i], axis=0)\n",
        "  pxy = {}\n",
        "  pxy['mu'] = mu\n",
        "  pxy['std'] = std\n",
        "  return pxy\n",
        "\n",
        "def eval_NB_temp(pxy, X, f):\n",
        "  '''\n",
        "  Evaluate naive bayes for temp\n",
        "  Input: pxy is the trained model; X is the test data\n",
        "  Output: return y_pred, where y_pred[i] is the predicted ith test value\n",
        "  '''\n",
        "  # needs code\n",
        "  pred_y = []\n",
        "  for x in X:\n",
        "    sum = 0\n",
        "    dem = 0\n",
        "    for i in range(f): \n",
        "      sum += (x[i] + pxy['mu'][i])*(pxy['std'][i]**2)\n",
        "      dem += 1/(pxy['std'][i]**2)\n",
        "    pred_y.append(sum/dem)\n",
        "  return pred_y"
      ]
    },
    {
      "cell_type": "code",
      "execution_count": null,
      "metadata": {
        "colab": {
          "base_uri": "https://localhost:8080/"
        },
        "id": "rLv_UnbrMoEe",
        "outputId": "905c0048-d71b-4585-ce5d-bae0172f2404"
      },
      "outputs": [
        {
          "name": "stdout",
          "output_type": "stream",
          "text": [
            "RMSE :  17955.633894866507\n",
            "Median abs error :  14851.644000852983\n"
          ]
        }
      ],
      "source": [
        "pxy = train_NB_temp(x_train, y_train, len(feature_to_city), 0)\n",
        "y_pred = eval_NB_temp(pxy, x_test, len(feature_to_city))\n",
        "MSE = np.square(np.subtract(y_test,y_pred)).mean() \n",
        "print(\"RMSE : \", np.sqrt(MSE))\n",
        "mad = np.median(abs(y_test - y_pred))\n",
        "print(\"Median abs error : \", mad)"
      ]
    },
    {
      "cell_type": "code",
      "execution_count": null,
      "metadata": {
        "id": "Un086lGzbQfQ"
      },
      "outputs": [],
      "source": [
        "# Don't forget linear regression!\n",
        "def classify_LR(X_trn, y_trn, X_tst):\n",
        "  lr = Ridge()\n",
        "  lr.fit(X_trn, y_trn)\n",
        "  return lr.predict(X_tst)\n",
        "\n",
        "def eval_LR(X_trn, y_trn, X_tst, y_tst):\n",
        "  y_pred = classify_LR(X_trn, y_trn, X_tst)\n",
        "  MSE = np.square(np.subtract(y_tst,y_pred)).mean() \n",
        "  print(\"RMSE : \", np.sqrt(MSE))\n",
        "  mad = np.median(abs(y_tst - y_pred))\n",
        "  print(\"Median abs error : \", mad)\n"
      ]
    },
    {
      "cell_type": "code",
      "execution_count": null,
      "metadata": {
        "colab": {
          "base_uri": "https://localhost:8080/"
        },
        "id": "EAuJ-yl58FJF",
        "outputId": "50636c47-f20e-4d27-af7e-0b08af02c039"
      },
      "outputs": [
        {
          "name": "stdout",
          "output_type": "stream",
          "text": [
            "RMSE :  2.1608605260826796\n",
            "Median abs error :  1.3975601000671434\n"
          ]
        }
      ],
      "source": [
        "eval_LR(x_train, y_train, x_test, y_test)"
      ]
    },
    {
      "cell_type": "code",
      "execution_count": null,
      "metadata": {
        "colab": {
          "base_uri": "https://localhost:8080/"
        },
        "id": "3rehsXx0cZOh",
        "outputId": "198587c6-b258-4971-8530-dde20a834370"
      },
      "outputs": [
        {
          "name": "stdout",
          "output_type": "stream",
          "text": [
            "[334 347 405 366 361 367   9 236 290 175]\n",
            "['Chicago', 'Minneapolis', 'Grand Rapids', 'Kansas City', 'Cleveland', 'Indianapolis', 'Boston', 'Springfield', 'Providence', 'Boston']\n",
            "[-1, -1, -1, -1, -1, -1, -5, -3, -2, -3]\n"
          ]
        }
      ],
      "source": [
        "# Feature analysis\n",
        "lf = Lasso()\n",
        "lf.fit(x_train, y_train)\n",
        "org = lf.coef_\n",
        "arr = lf.coef_\n",
        "\n",
        "ind = np.argsort(arr)[::-1][:10]\n",
        "print(ind)\n",
        "\n",
        "cities = []\n",
        "dates = []\n",
        "for i in ind :\n",
        "  cities.append(feature_to_city[i])\n",
        "  dates.append(feature_to_day[i])\n",
        "\n",
        "print(cities)\n",
        "print(dates)"
      ]
    },
    {
      "cell_type": "code",
      "execution_count": null,
      "metadata": {
        "id": "oKbGp1gTKL9G"
      },
      "outputs": [],
      "source": [
        "#KNN using top 10 features\n",
        "import math\n",
        "def classify_KNN_10(X_trn, y_trn, X_tst, K=3):\n",
        "  lab = []\n",
        "  for x in X_tst:\n",
        "    dist = []\n",
        "    for j in range(len(X_trn)):\n",
        "      sum = 0\n",
        "      for feat in ind:\n",
        "        sum += (X_trn[j][feat] - x[feat])**2\n",
        "      sum = math.sqrt(sum)\n",
        "      dist.append([j, sum])\n",
        "    dist.sort(key=lambda tup : tup[1])\n",
        "    sum = 0\n",
        "    for i in range(K):\n",
        "      sum += y_trn[dist[i][0]]\n",
        "    sum = sum / K\n",
        "    lab.append(sum)\n",
        "  return lab\n",
        "\n",
        "def eval_KNN(X_trn, y_trn, X_tst, y_tst, K=3):\n",
        "  y_pred = classify_KNN(X_trn, y_trn, X_tst, K=3)\n",
        "  MSE = np.square(np.subtract(y_tst,y_pred)).mean() \n",
        "  print(\"RMSE : \", np.sqrt(MSE))\n",
        "  mad = np.median(abs(y_tst - y_pred))\n",
        "  print(\"Median abs error : \", mad)"
      ]
    },
    {
      "cell_type": "code",
      "execution_count": null,
      "metadata": {
        "colab": {
          "base_uri": "https://localhost:8080/"
        },
        "id": "ysf9kfLIRDZo",
        "outputId": "e1caf6da-af0f-41ef-b509-c006abe994c1"
      },
      "outputs": [
        {
          "name": "stdout",
          "output_type": "stream",
          "text": [
            "RMSE :  3.4030752186343767\n",
            "Median abs error :  2.2566666666666677\n"
          ]
        }
      ],
      "source": [
        "eval_KNN(x_train, y_train, x_test, y_test, 3)"
      ]
    },
    {
      "cell_type": "code",
      "execution_count": null,
      "metadata": {
        "colab": {
          "base_uri": "https://localhost:8080/"
        },
        "id": "pvz76sH_TQhB",
        "outputId": "4e147b99-0177-46ce-ae88-ad58f36a064f"
      },
      "outputs": [
        {
          "name": "stdout",
          "output_type": "stream",
          "text": [
            "RMSE :  2.370990013806742\n",
            "Median abs error :  1.3330625523169675\n"
          ]
        }
      ],
      "source": [
        "#Linear Regression with top 10 features\n",
        "\n",
        "x_train10 = []\n",
        "x_test10 = []\n",
        "\n",
        "\n",
        "for (j, x) in enumerate(x_train):\n",
        "  arrx = np.zeros(10)\n",
        "  for (i, feat) in enumerate(ind):\n",
        "    arrx[i] = (x_train[j][feat])\n",
        "  x_train10.append(arrx)\n",
        "\n",
        "for (j, x) in enumerate(x_test):\n",
        "  arrx = np.zeros(10)\n",
        "  for (i, feat) in enumerate(ind):\n",
        "    arrx[i] = (x_test[j][feat])\n",
        "  x_test10.append(arrx)\n",
        "\n",
        "eval_LR(x_train10, y_train, x_test10, y_test)"
      ]
    },
    {
      "cell_type": "code",
      "execution_count": null,
      "metadata": {
        "colab": {
          "base_uri": "https://localhost:8080/"
        },
        "id": "Fl3TO_2zWd-I",
        "outputId": "f67ac784-381e-4a75-cc50-842a82f552d4"
      },
      "outputs": [
        {
          "name": "stdout",
          "output_type": "stream",
          "text": [
            "RMSE :  5037.642278288449\n",
            "Median abs error :  3304.685047162338\n"
          ]
        }
      ],
      "source": [
        "#Naive Bayes with top 10 features\n",
        "x_train10 = []\n",
        "x_test10 = []\n",
        "\n",
        "for (j, x) in enumerate(x_train):\n",
        "  arrx = np.zeros(10)\n",
        "  for (i, feat) in enumerate(ind):\n",
        "    arrx[i] = (x_train[j][feat])\n",
        "  x_train10.append(arrx)\n",
        "\n",
        "for (j, x) in enumerate(x_test):\n",
        "  arrx = np.zeros(10)\n",
        "  for (i, feat) in enumerate(ind):\n",
        "    arrx[i] = (x_test[j][feat])\n",
        "  x_test10.append(arrx)\n",
        "\n",
        "x_train10 = np.array(x_train10)\n",
        "x_test10 = np.array(x_test10)\n",
        "\n",
        "\n",
        "pxy = train_NB_temp(x_train10, y_train, int(10), 0)\n",
        "y_pred = eval_NB_temp(pxy, x_test10, int(10))\n",
        "MSE = np.square(np.subtract(y_test,y_pred)).mean() \n",
        "print(\"RMSE : \", np.sqrt(MSE))\n",
        "mad = np.median(abs(y_test - y_pred))\n",
        "print(\"Median abs error : \", mad)"
      ]
    },
    {
      "cell_type": "markdown",
      "metadata": {
        "id": "3X3j_efPhh6e"
      },
      "source": [
        "## Part 3: Stretch Goals\n",
        "Include all your code used for part 3 in this section. You can copy-paste code from parts 1 or 2 if it is re-usable."
      ]
    },
    {
      "cell_type": "code",
      "execution_count": null,
      "metadata": {
        "id": "b5SnDgjKVdLJ"
      },
      "outputs": [],
      "source": [
        "#MNIST DATASET KNN\n",
        "from sklearn.preprocessing import StandardScaler, RobustScaler\n",
        "from sklearn.metrics import accuracy_score\n",
        "from sklearn.neighbors import KNeighborsClassifier, NearestNeighbors\n",
        "from sklearn.metrics import roc_auc_score\n",
        "from sklearn.model_selection import GridSearchCV\n",
        "\n",
        "# This is a suggested function definition for KNN, but feel free to change it\n",
        "def classify_KNN(X_trn, y_trn, X_tst, y_tst, K=1):\n",
        "  '''\n",
        "  Classify each data point in X_tst using a K-nearest neighbor classifier based on (X_trn, y_trn), with L2 distance.   \n",
        "  Input: X_trn[i] is the ith training data. y_trn[i] is the ith training label. \n",
        "         X_tst[i] is the ith example to classify.  K is the number of closest neighbors to use.\n",
        "  Output: return y_pred, where y_pred[i] is the predicted ith test label \n",
        "  '''\n",
        "  knn = KNeighborsClassifier( metric=\"euclidean\", n_neighbors=1)\n",
        "  knn.fit(X_trn, y_trn)\n",
        "  y_pred = knn.predict(X_tst)\n",
        "  print(accuracy_score(y_tst, y_pred))\n",
        "\n",
        "def plot_error(acc) :\n",
        "  plt.figure(figsize = (12, 6))\n",
        "  plt.plot(range(1, 15), acc , marker = \"o\", linestyle = \"dashed\", color = \"blue\")\n",
        "  plt.title(\"Accuracy vs k value\")\n",
        "  plt.xticks(range(1, 15))\n",
        "  plt.show()"
      ]
    },
    {
      "cell_type": "code",
      "execution_count": null,
      "metadata": {
        "colab": {
          "background_save": true
        },
        "id": "Al6V5lH2CuBz",
        "outputId": "0b9ba8e6-f432-402f-a269-bab224f5e242"
      },
      "outputs": [
        {
          "name": "stdout",
          "output_type": "stream",
          "text": [
            "0.9632\n"
          ]
        }
      ],
      "source": [
        "p = classify_KNN(x_train[train_indices['all']], y_train[train_indices['all']], x_val, y_val)"
      ]
    },
    {
      "cell_type": "code",
      "source": [
        "p = classify_KNN(x_train[train_indices['all']], y_train[train_indices['all']], x_val, y_val)"
      ],
      "metadata": {
        "colab": {
          "base_uri": "https://localhost:8080/"
        },
        "id": "P4wHKWBiYu_W",
        "outputId": "572aaa3a-43d7-4864-ca76-0df4e444df95"
      },
      "execution_count": null,
      "outputs": [
        {
          "output_type": "stream",
          "name": "stdout",
          "text": [
            "0.9696\n"
          ]
        }
      ]
    },
    {
      "cell_type": "code",
      "execution_count": null,
      "metadata": {
        "colab": {
          "base_uri": "https://localhost:8080/",
          "height": 390
        },
        "id": "ZXc_4aKxExUt",
        "outputId": "30d6542b-a8b7-42ba-95d4-3a87e689ac45"
      },
      "outputs": [
        {
          "data": {
            "image/png": "[encoded data removed]",
            "text/plain": [
              "<Figure size 864x432 with 1 Axes>"
            ]
          },
          "metadata": {},
          "output_type": "display_data"
        }
      ],
      "source": [
        "plot_error(p)\n",
        "#Best k value is 1"
      ]
    },
    {
      "cell_type": "code",
      "execution_count": null,
      "metadata": {
        "id": "NvKRDGSs8E7b",
        "colab": {
          "base_uri": "https://localhost:8080/"
        },
        "outputId": "77a711b1-6bcf-4476-8478-a746f90e53e5"
      },
      "outputs": [
        {
          "output_type": "stream",
          "name": "stdout",
          "text": [
            "0.9669\n"
          ]
        }
      ],
      "source": [
        "p = classify_KNN(x_train[train_indices['all']], y_train[train_indices['all']], x_test, y_test, K=2)"
      ]
    },
    {
      "cell_type": "code",
      "source": [
        "1 - 0.9669"
      ],
      "metadata": {
        "colab": {
          "base_uri": "https://localhost:8080/"
        },
        "id": "CiUWQQyZaCLR",
        "outputId": "42b2a4b3-ec81-4ad7-e69d-1e10b795636c"
      },
      "execution_count": null,
      "outputs": [
        {
          "output_type": "execute_result",
          "data": {
            "text/plain": [
              "0.03310000000000002"
            ]
          },
          "metadata": {},
          "execution_count": 8
        }
      ]
    },
    {
      "cell_type": "code",
      "source": [
        "#Temperature prediction using Linear regression\n",
        "from sklearn.preprocessing import StandardScaler, RobustScaler\n",
        "from sklearn.metrics import accuracy_score\n",
        "from sklearn.neighbors import KNeighborsClassifier, NearestNeighbors\n",
        "from sklearn.metrics import roc_auc_score\n",
        "from sklearn.model_selection import GridSearchCV\n",
        "\n",
        "def classify_KNN(X_trn, y_trn, X_tst, K=3):\n",
        "  '''\n",
        "  Classify each data point in X_tst using a K-nearest neighbor classifier based on (X_trn, y_trn), with L2 distance.   \n",
        "  Input: X_trn[i] is the ith training data. y_trn[i] is the ith training label. K is the number of closest neighbors to use.\n",
        "  Output: return y_pred, where y_pred[i] is the predicted ith test label \n",
        "  '''\n",
        "  scaler = StandardScaler()\n",
        "  X_trn = scaler.fit_transform(X_trn)\n",
        "  X_tst = scaler.transform(X_tst)\n",
        "  lab = []\n",
        "  for x in X_tst:\n",
        "    dist = []\n",
        "    for j in range(len(X_trn)):\n",
        "      dis = np.sum(np.sum(np.square(x - X_trn[j])))\n",
        "      dist.append([j, dis])\n",
        "    dist.sort(key=lambda tup : tup[1])\n",
        "    sum = 0\n",
        "    for i in range(K):\n",
        "      sum += y_trn[dist[i][0]]\n",
        "    sum = sum / K\n",
        "    lab.append(sum)\n",
        "  return lab\n",
        "\n",
        "def eval_KNN(X_trn, y_trn, X_tst, y_tst, K=3):\n",
        "  y_pred = classify_KNN(X_trn, y_trn, X_tst, K)\n",
        "  MSE = np.square(np.subtract(y_tst,y_pred)).mean() \n",
        "  print(\"RMSE : \", np.sqrt(MSE))\n",
        "  mad = np.median(abs(y_tst - y_pred))\n",
        "  print(\"Median abs error : \", mad)"
      ],
      "metadata": {
        "id": "07xTw-gBaqeZ"
      },
      "execution_count": null,
      "outputs": []
    },
    {
      "cell_type": "code",
      "source": [
        "from sklearn import decomposition, datasets\n",
        "from sklearn.linear_model import Ridge\n",
        "from sklearn.pipeline import Pipeline\n",
        "from sklearn.model_selection import GridSearchCV, cross_val_score\n",
        "from sklearn.preprocessing import StandardScaler\n",
        "from sklearn import preprocessing\n",
        "from sklearn.metrics import r2_score, mean_squared_error\n",
        "\n",
        "def classify_LR(X_trn, y_trn, X_tst, y_tst):\n",
        "  X_trn = preprocessing.scale(X_trn)\n",
        "  X_tst = preprocessing.scale(X_tst)\n",
        "  best_mse = 10000000\n",
        "  best_alpha = 0\n",
        "  for alpha in np.arange(0, 200, 1):\n",
        "    lr = Ridge(alpha=alpha)\n",
        "    lr.fit(X_trn, y_trn)\n",
        "    y_pred = lr.predict(X_tst)\n",
        "    mse = np.square(np.subtract(y_tst,y_pred)).mean()\n",
        "    if(mean_squared_error(y_tst, y_pred) < best_mse) :\n",
        "      best_mse = mean_squared_error(y_tst, y_pred)\n",
        "      best_alpha = alpha\n",
        "  print(best_mse, \" \", best_alpha)\n",
        "\n",
        "\n",
        "def eval_LR(X_trn, y_trn, X_tst, y_tst):\n",
        "  y_pred = classify_LR(X_trn, y_trn, X_tst, y_tst)\n",
        "  MSE = np.square(np.subtract(y_tst,y_pred)).mean() \n",
        "  print(\"RMSE : \", np.sqrt(MSE))\n",
        "  mad = np.median(abs(y_tst - y_pred))\n",
        "  print(\"Median abs error : \", mad)\n"
      ],
      "metadata": {
        "id": "03oTPjrkFUpf"
      },
      "execution_count": null,
      "outputs": []
    },
    {
      "cell_type": "code",
      "source": [
        "classify_LR(x_train, y_train, x_val, y_val)"
      ],
      "metadata": {
        "colab": {
          "base_uri": "https://localhost:8080/"
        },
        "id": "j7mqixkmFIvC",
        "outputId": "1699efef-1af2-4fee-bc37-817867aabaf1"
      },
      "execution_count": null,
      "outputs": [
        {
          "output_type": "stream",
          "name": "stdout",
          "text": [
            "2.1664065523006677   34\n"
          ]
        }
      ]
    },
    {
      "cell_type": "code",
      "source": [
        "classify_LR(x_train, y_train, x_test, y_test)"
      ],
      "metadata": {
        "id": "WPiLHVaUK6sg",
        "colab": {
          "base_uri": "https://localhost:8080/"
        },
        "outputId": "2de73869-a074-4f92-c93f-e9c94040dfd4"
      },
      "execution_count": null,
      "outputs": [
        {
          "output_type": "stream",
          "name": "stdout",
          "text": [
            "2.3473986008072876   30\n"
          ]
        }
      ]
    },
    {
      "cell_type": "code",
      "source": [],
      "metadata": {
        "id": "7f6LKinaXZ4-"
      },
      "execution_count": null,
      "outputs": []
    }
  ],
  "metadata": {
    "colab": {
      "provenance": [],
      "include_colab_link": true
    },
    "kernelspec": {
      "display_name": "Python 3",
      "language": "python",
      "name": "python3"
    },
    "language_info": {
      "codemirror_mode": {
        "name": "ipython",
        "version": 3
      },
      "file_extension": ".py",
      "mimetype": "text/x-python",
      "name": "python",
      "nbconvert_exporter": "python",
      "pygments_lexer": "ipython3",
      "version": "3.7.6"
    }
  },
  "nbformat": 4,
  "nbformat_minor": 0
}